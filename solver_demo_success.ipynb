{
 "cells": [
  {
   "cell_type": "markdown",
   "id": "1aa0dea5-0534-43da-ab4f-75f68c6e9ea4",
   "metadata": {},
   "source": [
    "Setup guide: Shift to readme"
   ]
  },
  {
   "cell_type": "raw",
   "id": "12ac80a3-2453-4ebb-b67a-9b3975763f4c",
   "metadata": {
    "execution": {
     "iopub.execute_input": "2024-07-10T02:49:52.544729Z",
     "iopub.status.busy": "2024-07-10T02:49:52.544120Z",
     "iopub.status.idle": "2024-07-10T02:49:52.560477Z",
     "shell.execute_reply": "2024-07-10T02:49:52.559665Z"
    }
   },
   "source": [
    "$cd ~\n",
    "$module load python3/3.11.0\n",
    "$module load openmpi/4.0.5\n",
    "$python3 -m venv env_MPI --system-site-package\n",
    "$source ~/env_MPI/bin/activate\n",
    "$python3 -m pip install mpi4py mgmetis jupyter\n",
    "\n",
    "$cd ~/PCG_MPI\n",
    "$jupyter nbconvert --execute --clear-output solver_demo.ipynb\n"
   ]
  },
  {
   "cell_type": "code",
   "execution_count": 1,
   "id": "c0d64d7a-d7fc-45f2-82a7-94409c8d1cd3",
   "metadata": {
    "execution": {
     "iopub.execute_input": "2024-07-10T03:37:38.296873Z",
     "iopub.status.busy": "2024-07-10T03:37:38.296240Z",
     "iopub.status.idle": "2024-07-10T03:37:38.439972Z",
     "shell.execute_reply": "2024-07-10T03:37:38.438986Z"
    }
   },
   "outputs": [],
   "source": [
    "%%bash\n",
    "\n",
    "cat <<EOL > setup_env.sh\n",
    "source ~/env_MPI/bin/activate\n",
    "export PYTHONPATH=~/env_MPI/lib/python3.11/site-packages:\\$PYTHONPATH\n",
    "module load python3/3.11.0\n",
    "module load openmpi/4.0.5\n",
    "\n",
    "export NPrt=24\n",
    "export WorkDir=~/PCG_MPI\n",
    "cd \\$WorkDir\n",
    "EOL\n"
   ]
  },
  {
   "cell_type": "code",
   "execution_count": 2,
   "id": "05ae77ed-bf90-4360-969e-5e36202710a4",
   "metadata": {
    "execution": {
     "iopub.execute_input": "2024-07-10T03:37:38.444789Z",
     "iopub.status.busy": "2024-07-10T03:37:38.444114Z",
     "iopub.status.idle": "2024-07-10T03:37:39.662829Z",
     "shell.execute_reply": "2024-07-10T03:37:39.661804Z"
    }
   },
   "outputs": [],
   "source": [
    "%%bash\n",
    "source setup_env.sh\n",
    "\n",
    "export ModelName=CubeTest\n",
    "export ScratchPath=$WorkDir/$ModelName\n",
    "export InputModelPath=$ScratchPath/$ModelName.zip\n",
    "\n",
    "python3 ReadInputModel.py $WorkDir $ModelName $ScratchPath $InputModelPath\n"
   ]
  },
  {
   "cell_type": "code",
   "execution_count": 3,
   "id": "cec422f1-0cd5-4468-bcfe-06fcd28fa836",
   "metadata": {
    "execution": {
     "iopub.execute_input": "2024-07-10T03:37:39.667912Z",
     "iopub.status.busy": "2024-07-10T03:37:39.667100Z",
     "iopub.status.idle": "2024-07-10T03:37:40.672307Z",
     "shell.execute_reply": "2024-07-10T03:37:40.671296Z"
    }
   },
   "outputs": [
    {
     "name": "stdout",
     "output_type": "stream",
     "text": [
      "N_Parts:  24\n"
     ]
    }
   ],
   "source": [
    "%%bash\n",
    "source setup_env.sh\n",
    "\n",
    "python3 MetisMeshPart.py $NPrt\n",
    "\n"
   ]
  },
  {
   "cell_type": "code",
   "execution_count": 4,
   "id": "360fe634-f1f2-42b2-873a-db909ad5408e",
   "metadata": {
    "execution": {
     "iopub.execute_input": "2024-07-10T03:37:40.677060Z",
     "iopub.status.busy": "2024-07-10T03:37:40.676413Z",
     "iopub.status.idle": "2024-07-10T03:37:42.506699Z",
     "shell.execute_reply": "2024-07-10T03:37:42.505703Z"
    }
   },
   "outputs": [
    {
     "name": "stdout",
     "output_type": "stream",
     "text": [
      "N_Workers 4\n"
     ]
    },
    {
     "name": "stdout",
     "output_type": "stream",
     "text": [
      "0 A\n"
     ]
    },
    {
     "name": "stdout",
     "output_type": "stream",
     "text": [
      "0 B0\n"
     ]
    },
    {
     "name": "stdout",
     "output_type": "stream",
     "text": [
      "0 B1\n"
     ]
    },
    {
     "name": "stdout",
     "output_type": "stream",
     "text": [
      "0 C\n"
     ]
    },
    {
     "name": "stdout",
     "output_type": "stream",
     "text": [
      "0 D\n"
     ]
    },
    {
     "name": "stdout",
     "output_type": "stream",
     "text": [
      "0 E\n"
     ]
    },
    {
     "name": "stdout",
     "output_type": "stream",
     "text": [
      "0 F\n"
     ]
    },
    {
     "name": "stdout",
     "output_type": "stream",
     "text": [
      "0 G\n"
     ]
    },
    {
     "name": "stdout",
     "output_type": "stream",
     "text": [
      "0 H\n"
     ]
    },
    {
     "name": "stdout",
     "output_type": "stream",
     "text": [
      "0 I\n"
     ]
    },
    {
     "name": "stdout",
     "output_type": "stream",
     "text": [
      "0 J\n"
     ]
    },
    {
     "name": "stdout",
     "output_type": "stream",
     "text": [
      "0 K\n"
     ]
    }
   ],
   "source": [
    "%%bash\n",
    "source setup_env.sh\n",
    "\n",
    "export NSplits=4   \n",
    "mpiexec -np $NSplits --map-by numa python3 Elast_ParDataPrepMPI.py $NPrt 0\n"
   ]
  },
  {
   "cell_type": "code",
   "execution_count": 5,
   "id": "a87bf5ba-f0d2-461e-8066-4bbef20a6c2e",
   "metadata": {
    "execution": {
     "iopub.execute_input": "2024-07-10T03:37:42.511423Z",
     "iopub.status.busy": "2024-07-10T03:37:42.510774Z",
     "iopub.status.idle": "2024-07-10T03:37:43.490880Z",
     "shell.execute_reply": "2024-07-10T03:37:43.489883Z"
    }
   },
   "outputs": [],
   "source": [
    "%%bash\n",
    "source setup_env.sh\n",
    "\n",
    "python3 -c \"\n",
    "from GeneralFunc import exportz\n",
    "TimeHistoryParam={'ExportFlag': True, # export results\n",
    "                  'ExportFrmRate' : 1,\n",
    "                  'ExportFrms' : [],\n",
    "                  'PlotFlag' : False,\n",
    "                  'TimeStepDelta': [0,1],\n",
    "                  'ExportVars': 'U'} #D U PS PE GS GE\n",
    "\n",
    "SolverParam={'Tol' : 1e-7,\n",
    "             'MaxIter' : 10000}\n",
    "\n",
    "GlobSettings = {'TimeHistoryParam':TimeHistoryParam,\n",
    "                'SolverParam':SolverParam}\n",
    "exportz('__pycache__/GlobSettings.zpkl', GlobSettings)\n",
    "\""
   ]
  },
  {
   "cell_type": "code",
   "execution_count": 6,
   "id": "a4763182-4605-41dc-8e7b-56beebe3ca5b",
   "metadata": {
    "execution": {
     "iopub.execute_input": "2024-07-10T03:37:43.496089Z",
     "iopub.status.busy": "2024-07-10T03:37:43.495291Z",
     "iopub.status.idle": "2024-07-10T03:37:47.570984Z",
     "shell.execute_reply": "2024-07-10T03:37:47.569827Z"
    }
   },
   "outputs": [
    {
     "name": "stdout",
     "output_type": "stream",
     "text": [
      "N_Workers 24\n"
     ]
    },
    {
     "name": "stdout",
     "output_type": "stream",
     "text": [
      "Time (sec) taken to read files:  0.1\n"
     ]
    },
    {
     "name": "stdout",
     "output_type": "stream",
     "text": [
      "0 1.0 [0.6 0. ]\n"
     ]
    },
    {
     "name": "stdout",
     "output_type": "stream",
     "text": [
      "100 1.3422084271370702e-05 [0.6 0. ]\n"
     ]
    },
    {
     "name": "stdout",
     "output_type": "stream",
     "text": [
      "Analysis Finished Sucessfully..\n"
     ]
    },
    {
     "name": "stdout",
     "output_type": "stream",
     "text": [
      "TotalTimeStepCount 2\n"
     ]
    },
    {
     "name": "stdout",
     "output_type": "stream",
     "text": [
      "\n"
     ]
    },
    {
     "name": "stdout",
     "output_type": "stream",
     "text": [
      "\n"
     ]
    },
    {
     "name": "stdout",
     "output_type": "stream",
     "text": [
      "-----------------\n"
     ]
    },
    {
     "name": "stdout",
     "output_type": "stream",
     "text": [
      "Verify Total Time: 0.04721488160982809 0.23130341370900476\n"
     ]
    },
    {
     "name": "stdout",
     "output_type": "stream",
     "text": [
      "Total Time: 0.9024715423583984 ['Mean', 0.8987173438072205] ['Max_i', 0.9023511409759521]\n"
     ]
    },
    {
     "name": "stdout",
     "output_type": "stream",
     "text": [
      "\n"
     ]
    },
    {
     "name": "stdout",
     "output_type": "stream",
     "text": [
      "\n"
     ]
    }
   ],
   "source": [
    "%%bash\n",
    "source setup_env.sh\n",
    "\n",
    "mpiexec -np $NPrt --map-by numa python3 Elast_StaticAnalysis.py 1 0\n"
   ]
  },
  {
   "cell_type": "code",
   "execution_count": 7,
   "id": "0bb6cd01-3cda-44d5-ae4b-738a1706aa32",
   "metadata": {
    "execution": {
     "iopub.execute_input": "2024-07-10T03:37:47.575854Z",
     "iopub.status.busy": "2024-07-10T03:37:47.575163Z",
     "iopub.status.idle": "2024-07-10T03:37:48.578021Z",
     "shell.execute_reply": "2024-07-10T03:37:48.576893Z"
    }
   },
   "outputs": [
    {
     "name": "stdout",
     "output_type": "stream",
     "text": [
      "0\n"
     ]
    },
    {
     "name": "stdout",
     "output_type": "stream",
     "text": [
      "1\n"
     ]
    }
   ],
   "source": [
    "%%bash\n",
    "source setup_env.sh\n",
    "\n",
    "mpiexec -np 1 python3 ExportVTK.py 1 \"U\" \"Full\"\n"
   ]
  }
 ],
 "metadata": {
  "kernelspec": {
   "display_name": "Python 3 (ipykernel)",
   "language": "python",
   "name": "python3"
  },
  "language_info": {
   "codemirror_mode": {
    "name": "ipython",
    "version": 3
   },
   "file_extension": ".py",
   "mimetype": "text/x-python",
   "name": "python",
   "nbconvert_exporter": "python",
   "pygments_lexer": "ipython3",
   "version": "3.11.0"
  }
 },
 "nbformat": 4,
 "nbformat_minor": 5
}
