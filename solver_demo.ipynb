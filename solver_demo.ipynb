{
 "cells": [
  {
   "cell_type": "code",
   "execution_count": 1,
   "id": "0b778a5b-94a2-4ab6-8211-803cc53ab49d",
   "metadata": {
    "execution": {
     "iopub.execute_input": "2024-07-08T14:55:14.181997Z",
     "iopub.status.busy": "2024-07-08T14:55:14.181241Z",
     "iopub.status.idle": "2024-07-08T14:55:14.202590Z",
     "shell.execute_reply": "2024-07-08T14:55:14.201612Z"
    }
   },
   "outputs": [
    {
     "data": {
      "text/plain": [
       "'\\n#TODO: Verify installation\\ncd ~\\nmodule load python3/3.11.0\\nmodule load openmpi/4.0.5\\npython3 -m venv envNew --system-site-package\\nenvNew/bin/pip3 install --no-binary :all: mpi4py\\nenvNew/bin/pip3 install --no-binary :all: mgmetis\\nenvNew/bin/pip3 install --no-binary :all: jupyter\\n\\n\\n#Run\\n$jupyter nbconvert --execute --clear-output solver_demo.ipynb\\n'"
      ]
     },
     "execution_count": 1,
     "metadata": {},
     "output_type": "execute_result"
    }
   ],
   "source": [
    "#Setup\n",
    "\"\"\"\n",
    "#TODO: Verify installation\n",
    "cd ~\n",
    "module load python3/3.11.0\n",
    "module load openmpi/4.0.5\n",
    "python3 -m venv envNew --system-site-package\n",
    "envNew/bin/pip3 install --no-binary :all: mpi4py\n",
    "envNew/bin/pip3 install --no-binary :all: mgmetis\n",
    "envNew/bin/pip3 install --no-binary :all: jupyter\n",
    "\n",
    "\n",
    "#Run\n",
    "$jupyter nbconvert --execute --clear-output solver_demo.ipynb\n",
    "\"\"\""
   ]
  },
  {
   "cell_type": "code",
   "execution_count": 2,
   "id": "c0d64d7a-d7fc-45f2-82a7-94409c8d1cd3",
   "metadata": {
    "execution": {
     "iopub.execute_input": "2024-07-08T14:55:14.208894Z",
     "iopub.status.busy": "2024-07-08T14:55:14.208336Z",
     "iopub.status.idle": "2024-07-08T14:55:14.276375Z",
     "shell.execute_reply": "2024-07-08T14:55:14.274327Z"
    }
   },
   "outputs": [],
   "source": [
    "%%bash\n",
    "\n",
    "cat <<EOL > setup_env.sh\n",
    "source ~/env/bin/activate\n",
    "export PYTHONPATH=~/env/lib/python3.7/site-packages:\\$PYTHONPATH\n",
    "module load python3/3.7.4\n",
    "module load openmpi/4.0.7\n",
    "\n",
    "export NSplits=4\n",
    "export NPrt=12\n",
    "export NMetisParts=1\n",
    "export Model=CubeTest\n",
    "export SolverFile=Elast_StaticAnalysis.py\n",
    "export WorkDir=~/MatlabLink_4Jul/High_Performance_Computing_MPI/\n",
    "cd \\$WorkDir\n",
    "EOL\n"
   ]
  },
  {
   "cell_type": "code",
   "execution_count": 3,
   "id": "cec422f1-0cd5-4468-bcfe-06fcd28fa836",
   "metadata": {
    "execution": {
     "iopub.execute_input": "2024-07-08T14:55:14.283637Z",
     "iopub.status.busy": "2024-07-08T14:55:14.282285Z",
     "iopub.status.idle": "2024-07-08T14:55:15.230804Z",
     "shell.execute_reply": "2024-07-08T14:55:15.229081Z"
    }
   },
   "outputs": [
    {
     "name": "stdout",
     "output_type": "stream",
     "text": [
      "Am 0.00556492805480957\n",
      "Bm 0.0004589557647705078\n",
      "Cm 0.0006043910980224609\n",
      "Dm 0.02531719207763672\n",
      "N_Parts:  12\n",
      "Em 0.0048215389251708984\n"
     ]
    }
   ],
   "source": [
    "%%bash\n",
    "source setup_env.sh\n",
    "mpiexec -np $NMetisParts --map-by numa python3 MetisMeshPart.py $WorkDir\n"
   ]
  },
  {
   "cell_type": "code",
   "execution_count": 4,
   "id": "49ae5bad-5af7-4a64-9567-0b71461794de",
   "metadata": {
    "execution": {
     "iopub.execute_input": "2024-07-08T14:55:15.237614Z",
     "iopub.status.busy": "2024-07-08T14:55:15.236445Z",
     "iopub.status.idle": "2024-07-08T14:55:16.748492Z",
     "shell.execute_reply": "2024-07-08T14:55:16.746906Z"
    }
   },
   "outputs": [
    {
     "name": "stdout",
     "output_type": "stream",
     "text": [
      "N_Workers 4\n",
      "0 A\n",
      "0 B0\n",
      "0 B1\n",
      "0 C\n",
      "0 D\n",
      "0 E\n",
      "0 F\n",
      "0 G\n",
      "0 H\n",
      "0 I\n",
      "0 J\n",
      "0 K\n"
     ]
    }
   ],
   "source": [
    "%%bash\n",
    "source setup_env.sh\n",
    "mpiexec -np $NSplits --map-by numa python3 Elast_ParDataPrepMPI.py $NPrt $WorkDir 0\n"
   ]
  },
  {
   "cell_type": "code",
   "execution_count": 5,
   "id": "a4763182-4605-41dc-8e7b-56beebe3ca5b",
   "metadata": {
    "execution": {
     "iopub.execute_input": "2024-07-08T14:55:16.755117Z",
     "iopub.status.busy": "2024-07-08T14:55:16.754038Z",
     "iopub.status.idle": "2024-07-08T14:55:19.839372Z",
     "shell.execute_reply": "2024-07-08T14:55:19.837829Z"
    }
   },
   "outputs": [
    {
     "name": "stdout",
     "output_type": "stream",
     "text": [
      "N_Workers 12\n",
      "Time (sec) taken to read files:  0.04\n",
      "0 1.0 [0.3 0. ]\n",
      "100 1.3422058681621622e-05 [0.3 0. ]\n",
      "Analysis Finished Sucessfully..\n",
      "TotalTimeStepCount 2\n",
      "\n",
      "\n",
      "-----------------\n",
      "Verify Total Time: 0.024558346874226464 0.08506858348846436\n",
      "Total Time: 0.42784690856933594 ['Mean', 0.42509257793426514] ['Max_i', 0.4277353286743164]\n",
      "\n",
      "\n"
     ]
    }
   ],
   "source": [
    "%%bash\n",
    "source setup_env.sh\n",
    "mpiexec -np $NPrt --map-by numa python3 $SolverFile $Model $WorkDir 1 0 0\n",
    "\n",
    "\n"
   ]
  },
  {
   "cell_type": "code",
   "execution_count": 6,
   "id": "0bb6cd01-3cda-44d5-ae4b-738a1706aa32",
   "metadata": {
    "execution": {
     "iopub.execute_input": "2024-07-08T14:55:19.845939Z",
     "iopub.status.busy": "2024-07-08T14:55:19.844924Z",
     "iopub.status.idle": "2024-07-08T14:55:20.850824Z",
     "shell.execute_reply": "2024-07-08T14:55:20.849034Z"
    }
   },
   "outputs": [
    {
     "name": "stdout",
     "output_type": "stream",
     "text": [
      "0\n",
      "1\n"
     ]
    }
   ],
   "source": [
    "%%bash\n",
    "source setup_env.sh\n",
    "mpiexec -np 1 python3 ExportVTK.py $Model $WorkDir 1 \"U\" \"Full\"\n"
   ]
  },
  {
   "cell_type": "code",
   "execution_count": 7,
   "id": "0f4a40fd-2ec8-472f-b65c-f39db9430aed",
   "metadata": {
    "execution": {
     "iopub.execute_input": "2024-07-08T14:55:20.857883Z",
     "iopub.status.busy": "2024-07-08T14:55:20.856746Z",
     "iopub.status.idle": "2024-07-08T14:55:21.760204Z",
     "shell.execute_reply": "2024-07-08T14:55:21.758483Z"
    }
   },
   "outputs": [
    {
     "name": "stdout",
     "output_type": "stream",
     "text": [
      "0\n",
      "1\n"
     ]
    }
   ],
   "source": [
    "%%bash\n",
    "source setup_env.sh\n",
    "mpiexec -np 1 python3 ExportMat.py $Model $WorkDir 1 \"U\""
   ]
  }
 ],
 "metadata": {
  "kernelspec": {
   "display_name": "Python 3 (ipykernel)",
   "language": "python",
   "name": "python3"
  },
  "language_info": {
   "codemirror_mode": {
    "name": "ipython",
    "version": 3
   },
   "file_extension": ".py",
   "mimetype": "text/x-python",
   "name": "python",
   "nbconvert_exporter": "python",
   "pygments_lexer": "ipython3",
   "version": "3.7.4"
  }
 },
 "nbformat": 4,
 "nbformat_minor": 5
}
