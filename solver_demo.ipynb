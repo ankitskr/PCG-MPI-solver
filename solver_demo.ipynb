{
 "cells": [
  {
   "cell_type": "markdown",
   "id": "1aa0dea5-0534-43da-ab4f-75f68c6e9ea4",
   "metadata": {},
   "source": [
    "Setup guide: Shift to readme"
   ]
  },
  {
   "cell_type": "raw",
   "id": "12ac80a3-2453-4ebb-b67a-9b3975763f4c",
   "metadata": {
    "execution": {
     "iopub.execute_input": "2024-07-10T02:49:52.544729Z",
     "iopub.status.busy": "2024-07-10T02:49:52.544120Z",
     "iopub.status.idle": "2024-07-10T02:49:52.560477Z",
     "shell.execute_reply": "2024-07-10T02:49:52.559665Z"
    }
   },
   "source": [
    "$cd ~\n",
    "$module load python3/3.11.0\n",
    "$module load openmpi/4.0.5\n",
    "$python3 -m venv env_MPI --system-site-package\n",
    "$source ~/env_MPI/bin/activate\n",
    "$python3 -m pip install mpi4py mgmetis jupyter\n",
    "\n",
    "$cd ~/PCG_MPI\n",
    "$jupyter nbconvert --execute --clear-output solver_demo.ipynb\n"
   ]
  },
  {
   "cell_type": "code",
   "execution_count": 1,
   "id": "c0d64d7a-d7fc-45f2-82a7-94409c8d1cd3",
   "metadata": {
    "execution": {
     "iopub.execute_input": "2024-07-10T14:11:42.576898Z",
     "iopub.status.busy": "2024-07-10T14:11:42.576270Z",
     "iopub.status.idle": "2024-07-10T14:11:43.132802Z",
     "shell.execute_reply": "2024-07-10T14:11:43.131791Z"
    }
   },
   "outputs": [],
   "source": [
    "%%bash\n",
    "\n",
    "cat <<EOL > setup_env.sh\n",
    "source ~/env_MPI/bin/activate\n",
    "export PYTHONPATH=~/env_MPI/lib/python3.11/site-packages:\\$PYTHONPATH\n",
    "module load python3/3.11.0\n",
    "module load openmpi/4.0.5\n",
    "\n",
    "export n_meshparts=24\n",
    "export work_dir=~/PCG_MPI\n",
    "cd \\$work_dir\n",
    "EOL\n"
   ]
  },
  {
   "cell_type": "code",
   "execution_count": 2,
   "id": "05ae77ed-bf90-4360-969e-5e36202710a4",
   "metadata": {
    "execution": {
     "iopub.execute_input": "2024-07-10T14:11:43.137247Z",
     "iopub.status.busy": "2024-07-10T14:11:43.136618Z",
     "iopub.status.idle": "2024-07-10T14:11:46.672558Z",
     "shell.execute_reply": "2024-07-10T14:11:46.671557Z"
    }
   },
   "outputs": [
    {
     "name": "stdout",
     "output_type": "stream",
     "text": [
      ">creating directories..\n"
     ]
    },
    {
     "name": "stdout",
     "output_type": "stream",
     "text": [
      ">extracting files from Concrete\n"
     ]
    },
    {
     "name": "stdout",
     "output_type": "stream",
     "text": [
      ">success!\n"
     ]
    },
    {
     "name": "stdout",
     "output_type": "stream",
     "text": [
      "\n"
     ]
    },
    {
     "name": "stdout",
     "output_type": "stream",
     "text": [
      ">elements:  124693\n"
     ]
    },
    {
     "name": "stdout",
     "output_type": "stream",
     "text": [
      ">nodes:     208316 \n"
     ]
    },
    {
     "name": "stdout",
     "output_type": "stream",
     "text": [
      ">dofs:      624948\n"
     ]
    },
    {
     "name": "stdout",
     "output_type": "stream",
     "text": [
      "\n"
     ]
    },
    {
     "name": "stdout",
     "output_type": "stream",
     "text": [
      ">total runtime: 1.11 sec\n"
     ]
    }
   ],
   "source": [
    "%%bash\n",
    "source setup_env.sh\n",
    "\n",
    "export model_name=Concrete\n",
    "export scratch_path=$work_dir/$model_name\n",
    "export input_model_path=$scratch_path/$model_name.zip\n",
    "\n",
    "python3 read_input_model.py $work_dir $model_name $scratch_path $input_model_path\n"
   ]
  },
  {
   "cell_type": "code",
   "execution_count": 3,
   "id": "cec422f1-0cd5-4468-bcfe-06fcd28fa836",
   "metadata": {
    "execution": {
     "iopub.execute_input": "2024-07-10T14:11:46.677052Z",
     "iopub.status.busy": "2024-07-10T14:11:46.676434Z",
     "iopub.status.idle": "2024-07-10T14:11:48.321346Z",
     "shell.execute_reply": "2024-07-10T14:11:48.320386Z"
    }
   },
   "outputs": [
    {
     "name": "stdout",
     "output_type": "stream",
     "text": [
      ">loading model data..\n"
     ]
    },
    {
     "name": "stdout",
     "output_type": "stream",
     "text": [
      ">generating indices for 24 mesh parts..\n"
     ]
    },
    {
     "name": "stdout",
     "output_type": "stream",
     "text": [
      ">success!\n"
     ]
    },
    {
     "name": "stdout",
     "output_type": "stream",
     "text": [
      ">total runtime: 0.61 sec\n"
     ]
    }
   ],
   "source": [
    "%%bash\n",
    "source setup_env.sh\n",
    "\n",
    "python3 run_metis.py $n_meshparts\n",
    "\n"
   ]
  },
  {
   "cell_type": "code",
   "execution_count": 4,
   "id": "360fe634-f1f2-42b2-873a-db909ad5408e",
   "metadata": {
    "execution": {
     "iopub.execute_input": "2024-07-10T14:11:48.325756Z",
     "iopub.status.busy": "2024-07-10T14:11:48.325168Z",
     "iopub.status.idle": "2024-07-10T14:11:53.182624Z",
     "shell.execute_reply": "2024-07-10T14:11:53.181495Z"
    }
   },
   "outputs": [
    {
     "name": "stdout",
     "output_type": "stream",
     "text": [
      ">loading model data..\n"
     ]
    },
    {
     "name": "stdout",
     "output_type": "stream",
     "text": [
      ">partitioning mesh into 24 parts using 4 cores..\n"
     ]
    },
    {
     "name": "stdout",
     "output_type": "stream",
     "text": [
      ">success!\n"
     ]
    },
    {
     "name": "stdout",
     "output_type": "stream",
     "text": [
      ">total runtime: 3.43 sec\n"
     ]
    }
   ],
   "source": [
    "%%bash\n",
    "source setup_env.sh\n",
    "\n",
    "export n_cores=4   \n",
    "mpiexec -np $n_cores --map-by numa python3 partition_mesh.py $n_meshparts 0\n"
   ]
  },
  {
   "cell_type": "code",
   "execution_count": 5,
   "id": "a87bf5ba-f0d2-461e-8066-4bbef20a6c2e",
   "metadata": {
    "execution": {
     "iopub.execute_input": "2024-07-10T14:11:53.187507Z",
     "iopub.status.busy": "2024-07-10T14:11:53.186811Z",
     "iopub.status.idle": "2024-07-10T14:11:54.185719Z",
     "shell.execute_reply": "2024-07-10T14:11:54.184699Z"
    }
   },
   "outputs": [],
   "source": [
    "%%bash\n",
    "source setup_env.sh\n",
    "\n",
    "python3 -c \"\n",
    "from file_operations import exportz\n",
    "\n",
    "TimeHistoryParam={'ExportFlag': True, # export results\n",
    "                  'ExportFrmRate' : 1,\n",
    "                  'ExportFrms' : [],\n",
    "                  'PlotFlag' : False,\n",
    "                  'TimeStepDelta': [0,1],\n",
    "                  'ExportVars': 'U'} #D U PS PE GS GE\n",
    "\n",
    "SolverParam={'Tol' : 1e-7,\n",
    "             'MaxIter' : 10000}\n",
    "\n",
    "GlobSettings = {'TimeHistoryParam':TimeHistoryParam,\n",
    "                'SolverParam':SolverParam}\n",
    "exportz('__pycache__/GlobSettings.zpkl', GlobSettings)\n",
    "\""
   ]
  },
  {
   "cell_type": "code",
   "execution_count": 6,
   "id": "a4763182-4605-41dc-8e7b-56beebe3ca5b",
   "metadata": {
    "execution": {
     "iopub.execute_input": "2024-07-10T14:11:54.190293Z",
     "iopub.status.busy": "2024-07-10T14:11:54.189664Z",
     "iopub.status.idle": "2024-07-10T14:12:04.130425Z",
     "shell.execute_reply": "2024-07-10T14:12:04.129418Z"
    }
   },
   "outputs": [
    {
     "name": "stdout",
     "output_type": "stream",
     "text": [
      ">loading partitioned data..\n"
     ]
    },
    {
     "name": "stdout",
     "output_type": "stream",
     "text": [
      ">running parallel pcg solver with 24 cores..\n"
     ]
    },
    {
     "name": "stdout",
     "output_type": "stream",
     "text": [
      ">exporting results..\n"
     ]
    },
    {
     "name": "stdout",
     "output_type": "stream",
     "text": [
      ">success!\n"
     ]
    },
    {
     "name": "stdout",
     "output_type": "stream",
     "text": [
      "\n"
     ]
    },
    {
     "name": "stdout",
     "output_type": "stream",
     "text": [
      ">file read time:     0.7 sec \n"
     ]
    },
    {
     "name": "stdout",
     "output_type": "stream",
     "text": [
      ">calculation time:   5.2 sec\n"
     ]
    },
    {
     "name": "stdout",
     "output_type": "stream",
     "text": [
      ">communication time: 1.0 sec\n"
     ]
    },
    {
     "name": "stdout",
     "output_type": "stream",
     "text": [
      ">---------------------------\n"
     ]
    },
    {
     "name": "stdout",
     "output_type": "stream",
     "text": [
      ">total runtime:      6.3 sec \n"
     ]
    },
    {
     "name": "stdout",
     "output_type": "stream",
     "text": [
      "        \n"
     ]
    }
   ],
   "source": [
    "%%bash\n",
    "source setup_env.sh\n",
    "\n",
    "mpiexec -np $n_meshparts --map-by numa python3 pcg_mpi_solver.py 1 0\n"
   ]
  },
  {
   "cell_type": "code",
   "execution_count": 7,
   "id": "0bb6cd01-3cda-44d5-ae4b-738a1706aa32",
   "metadata": {
    "execution": {
     "iopub.execute_input": "2024-07-10T14:12:04.135382Z",
     "iopub.status.busy": "2024-07-10T14:12:04.134682Z",
     "iopub.status.idle": "2024-07-10T14:12:06.912333Z",
     "shell.execute_reply": "2024-07-10T14:12:06.911344Z"
    }
   },
   "outputs": [
    {
     "name": "stdout",
     "output_type": "stream",
     "text": [
      ">loading model and result data..\n"
     ]
    },
    {
     "name": "stdout",
     "output_type": "stream",
     "text": [
      ">exporting vtk files..\n"
     ]
    },
    {
     "name": "stdout",
     "output_type": "stream",
     "text": [
      ">success!\n"
     ]
    },
    {
     "name": "stdout",
     "output_type": "stream",
     "text": [
      ">total runtime: 1.71 sec\n"
     ]
    }
   ],
   "source": [
    "%%bash\n",
    "source setup_env.sh\n",
    "\n",
    "mpiexec -np 1 python3 export_vtk.py 1 \"U\" \"Full\"\n"
   ]
  }
 ],
 "metadata": {
  "kernelspec": {
   "display_name": "Python 3 (ipykernel)",
   "language": "python",
   "name": "python3"
  },
  "language_info": {
   "codemirror_mode": {
    "name": "ipython",
    "version": 3
   },
   "file_extension": ".py",
   "mimetype": "text/x-python",
   "name": "python",
   "nbconvert_exporter": "python",
   "pygments_lexer": "ipython3",
   "version": "3.11.0"
  }
 },
 "nbformat": 4,
 "nbformat_minor": 5
}
