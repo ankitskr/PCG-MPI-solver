{
 "cells": [
  {
   "cell_type": "markdown",
   "id": "1aa0dea5-0534-43da-ab4f-75f68c6e9ea4",
   "metadata": {},
   "source": [
    "Setup guide: Shift to readme"
   ]
  },
  {
   "cell_type": "markdown",
   "id": "62df72d4-1d9d-4497-962b-df815d263a1e",
   "metadata": {},
   "source": []
  },
  {
   "cell_type": "markdown",
   "id": "8fe021a7-deba-4de8-87ce-869459a25db1",
   "metadata": {},
   "source": [
    "![Alt text](path/to/image.png)"
   ]
  },
  {
   "cell_type": "code",
   "execution_count": null,
   "id": "9decfc1b-142d-4795-9fe5-6b8ad3515b33",
   "metadata": {},
   "outputs": [],
   "source": []
  },
  {
   "cell_type": "code",
   "execution_count": 1,
   "id": "c0d64d7a-d7fc-45f2-82a7-94409c8d1cd3",
   "metadata": {
    "execution": {
     "iopub.execute_input": "2024-07-11T06:22:20.896923Z",
     "iopub.status.busy": "2024-07-11T06:22:20.896291Z",
     "iopub.status.idle": "2024-07-11T06:22:21.005965Z",
     "shell.execute_reply": "2024-07-11T06:22:21.004967Z"
    }
   },
   "outputs": [],
   "source": [
    "%%bash\n",
    "\n",
    "cat <<EOL > setup_env.sh\n",
    "source ~/env_MPI/bin/activate\n",
    "export PYTHONPATH=~/env_MPI/lib/python3.11/site-packages:\\$PYTHONPATH\n",
    "module load python3/3.11.0\n",
    "module load openmpi/4.0.5\n",
    "\n",
    "export work_dir=~/PCG_MPI_Solver\n",
    "cd \\$work_dir\n",
    "\n",
    "export n_meshparts=8\n",
    "\n",
    "EOL\n"
   ]
  },
  {
   "cell_type": "code",
   "execution_count": 2,
   "id": "05ae77ed-bf90-4360-969e-5e36202710a4",
   "metadata": {
    "execution": {
     "iopub.execute_input": "2024-07-11T06:22:21.010706Z",
     "iopub.status.busy": "2024-07-11T06:22:21.010040Z",
     "iopub.status.idle": "2024-07-11T06:22:23.929131Z",
     "shell.execute_reply": "2024-07-11T06:22:23.928147Z"
    }
   },
   "outputs": [
    {
     "name": "stdout",
     "output_type": "stream",
     "text": [
      ">creating directories..\n"
     ]
    },
    {
     "name": "stdout",
     "output_type": "stream",
     "text": [
      ">extracting files from Concrete\n"
     ]
    },
    {
     "name": "stdout",
     "output_type": "stream",
     "text": [
      ">success!\n"
     ]
    },
    {
     "name": "stdout",
     "output_type": "stream",
     "text": [
      "\n"
     ]
    },
    {
     "name": "stdout",
     "output_type": "stream",
     "text": [
      ">elements:  124693\n"
     ]
    },
    {
     "name": "stdout",
     "output_type": "stream",
     "text": [
      ">nodes:     208316 \n"
     ]
    },
    {
     "name": "stdout",
     "output_type": "stream",
     "text": [
      ">dofs:      624948\n"
     ]
    },
    {
     "name": "stdout",
     "output_type": "stream",
     "text": [
      "\n"
     ]
    },
    {
     "name": "stdout",
     "output_type": "stream",
     "text": [
      ">total runtime: 0.65 sec\n"
     ]
    }
   ],
   "source": [
    "%%bash\n",
    "source setup_env.sh\n",
    "\n",
    "export model_name=Concrete\n",
    "export scratch_path=$work_dir/$model_name\n",
    "export input_model_path=$scratch_path/$model_name.zip\n",
    "\n",
    "python3 read_input_model.py $work_dir $model_name $scratch_path $input_model_path\n"
   ]
  },
  {
   "cell_type": "code",
   "execution_count": 3,
   "id": "cec422f1-0cd5-4468-bcfe-06fcd28fa836",
   "metadata": {
    "execution": {
     "iopub.execute_input": "2024-07-11T06:22:23.934049Z",
     "iopub.status.busy": "2024-07-11T06:22:23.933247Z",
     "iopub.status.idle": "2024-07-11T06:22:25.479244Z",
     "shell.execute_reply": "2024-07-11T06:22:25.478286Z"
    }
   },
   "outputs": [
    {
     "name": "stdout",
     "output_type": "stream",
     "text": [
      ">loading model data..\n"
     ]
    },
    {
     "name": "stdout",
     "output_type": "stream",
     "text": [
      ">generating indices for 8 mesh parts..\n"
     ]
    },
    {
     "name": "stdout",
     "output_type": "stream",
     "text": [
      ">success!\n"
     ]
    },
    {
     "name": "stdout",
     "output_type": "stream",
     "text": [
      ">total runtime: 0.57 sec\n"
     ]
    }
   ],
   "source": [
    "%%bash\n",
    "source setup_env.sh\n",
    "\n",
    "python3 run_metis.py $n_meshparts\n",
    "\n"
   ]
  },
  {
   "cell_type": "code",
   "execution_count": 4,
   "id": "360fe634-f1f2-42b2-873a-db909ad5408e",
   "metadata": {
    "execution": {
     "iopub.execute_input": "2024-07-11T06:22:25.484029Z",
     "iopub.status.busy": "2024-07-11T06:22:25.483225Z",
     "iopub.status.idle": "2024-07-11T06:22:29.935082Z",
     "shell.execute_reply": "2024-07-11T06:22:29.934079Z"
    }
   },
   "outputs": [
    {
     "name": "stdout",
     "output_type": "stream",
     "text": [
      ">loading model data..\n"
     ]
    },
    {
     "name": "stdout",
     "output_type": "stream",
     "text": [
      ">partitioning mesh into 8 parts using 4 cores..\n"
     ]
    },
    {
     "name": "stdout",
     "output_type": "stream",
     "text": [
      ">success!\n"
     ]
    },
    {
     "name": "stdout",
     "output_type": "stream",
     "text": [
      ">total runtime: 3.02 sec\n"
     ]
    }
   ],
   "source": [
    "%%bash\n",
    "source setup_env.sh\n",
    "\n",
    "export n_cores=4\n",
    "mpiexec -np $n_cores --map-by numa python3 partition_mesh.py $n_meshparts 0\n"
   ]
  },
  {
   "cell_type": "code",
   "execution_count": 5,
   "id": "a87bf5ba-f0d2-461e-8066-4bbef20a6c2e",
   "metadata": {
    "execution": {
     "iopub.execute_input": "2024-07-11T06:22:29.939953Z",
     "iopub.status.busy": "2024-07-11T06:22:29.939255Z",
     "iopub.status.idle": "2024-07-11T06:22:30.892053Z",
     "shell.execute_reply": "2024-07-11T06:22:30.891060Z"
    }
   },
   "outputs": [],
   "source": [
    "%%bash\n",
    "source setup_env.sh\n",
    "\n",
    "python3 -c \"\n",
    "from file_operations import exportz\n",
    "\n",
    "TimeHistoryParam={'ExportFlag': True, # export results\n",
    "                  'ExportFrmRate' : 1,\n",
    "                  'ExportFrms' : [],\n",
    "                  'PlotFlag' : False,\n",
    "                  'TimeStepDelta': [0,1],\n",
    "                  'ExportVars': 'U'} #D U PS PE GS GE\n",
    "\n",
    "SolverParam={'Tol' : 1e-7,\n",
    "             'MaxIter' : 10000}\n",
    "\n",
    "GlobSettings = {'TimeHistoryParam':TimeHistoryParam,\n",
    "                'SolverParam':SolverParam}\n",
    "exportz('__pycache__/GlobSettings.zpkl', GlobSettings)\n",
    "\""
   ]
  },
  {
   "cell_type": "code",
   "execution_count": 6,
   "id": "a4763182-4605-41dc-8e7b-56beebe3ca5b",
   "metadata": {
    "execution": {
     "iopub.execute_input": "2024-07-11T06:22:30.897216Z",
     "iopub.status.busy": "2024-07-11T06:22:30.896439Z",
     "iopub.status.idle": "2024-07-11T06:22:45.609763Z",
     "shell.execute_reply": "2024-07-11T06:22:45.608743Z"
    }
   },
   "outputs": [
    {
     "name": "stdout",
     "output_type": "stream",
     "text": [
      ">loading partitioned data..\n"
     ]
    },
    {
     "name": "stdout",
     "output_type": "stream",
     "text": [
      ">running parallel pcg solver with 8 cores..\n"
     ]
    },
    {
     "name": "stdout",
     "output_type": "stream",
     "text": [
      ">exporting results..\n"
     ]
    },
    {
     "name": "stdout",
     "output_type": "stream",
     "text": [
      ">success!\n"
     ]
    },
    {
     "name": "stdout",
     "output_type": "stream",
     "text": [
      "\n"
     ]
    },
    {
     "name": "stdout",
     "output_type": "stream",
     "text": [
      ">file read time:     0.2 sec \n"
     ]
    },
    {
     "name": "stdout",
     "output_type": "stream",
     "text": [
      ">calculation time:   11.5 sec\n"
     ]
    },
    {
     "name": "stdout",
     "output_type": "stream",
     "text": [
      ">communication time: 1.1 sec\n"
     ]
    },
    {
     "name": "stdout",
     "output_type": "stream",
     "text": [
      ">---------------------------\n"
     ]
    },
    {
     "name": "stdout",
     "output_type": "stream",
     "text": [
      ">total runtime:      12.6 sec \n"
     ]
    },
    {
     "name": "stdout",
     "output_type": "stream",
     "text": [
      "        \n"
     ]
    }
   ],
   "source": [
    "%%bash\n",
    "source setup_env.sh\n",
    "\n",
    "mpiexec -np $n_meshparts --map-by numa python3 pcg_solver.py 1 0\n"
   ]
  },
  {
   "cell_type": "code",
   "execution_count": 7,
   "id": "0bb6cd01-3cda-44d5-ae4b-738a1706aa32",
   "metadata": {
    "execution": {
     "iopub.execute_input": "2024-07-11T06:22:45.614621Z",
     "iopub.status.busy": "2024-07-11T06:22:45.613846Z",
     "iopub.status.idle": "2024-07-11T06:22:48.194330Z",
     "shell.execute_reply": "2024-07-11T06:22:48.193363Z"
    }
   },
   "outputs": [
    {
     "name": "stdout",
     "output_type": "stream",
     "text": [
      ">loading model and result data..\n"
     ]
    },
    {
     "name": "stdout",
     "output_type": "stream",
     "text": [
      ">exporting vtk files..\n"
     ]
    },
    {
     "name": "stdout",
     "output_type": "stream",
     "text": [
      ">success!\n"
     ]
    },
    {
     "name": "stdout",
     "output_type": "stream",
     "text": [
      ">total runtime: 1.55 sec\n"
     ]
    }
   ],
   "source": [
    "%%bash\n",
    "source setup_env.sh\n",
    "\n",
    "mpiexec -np 1 python3 export_vtk.py 1 \"U\" \"Full\"\n"
   ]
  }
 ],
 "metadata": {
  "kernelspec": {
   "display_name": "Python 3 (ipykernel)",
   "language": "python",
   "name": "python3"
  },
  "language_info": {
   "codemirror_mode": {
    "name": "ipython",
    "version": 3
   },
   "file_extension": ".py",
   "mimetype": "text/x-python",
   "name": "python",
   "nbconvert_exporter": "python",
   "pygments_lexer": "ipython3",
   "version": "3.11.7"
  }
 },
 "nbformat": 4,
 "nbformat_minor": 5
}
